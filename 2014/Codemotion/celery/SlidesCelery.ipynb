{
 "metadata": {
  "name": "",
  "signature": "sha256:4e860d11a3aedd2ab045265b9a7f940c749c18e29094dad413add8c20ce4e034"
 },
 "nbformat": 3,
 "nbformat_minor": 0,
 "worksheets": [
  {
   "cells": [
    {
     "cell_type": "heading",
     "level": 1,
     "metadata": {},
     "source": [
      "Celery: Procesamiento distribuido de tareas con Python"
     ]
    },
    {
     "cell_type": "heading",
     "level": 2,
     "metadata": {},
     "source": [
      "\u00bfQu\u00e9 es celery?"
     ]
    },
    {
     "cell_type": "markdown",
     "metadata": {},
     "source": [
      "- Sistema de tareas.\n",
      "- Un broker que distrubuye las tareas.\n",
      "- N workers que las consumen.\n",
      "- Soporte de Workflows.\n",
      "- Soporte de routing (diferentes colas)."
     ]
    },
    {
     "cell_type": "heading",
     "level": 2,
     "metadata": {},
     "source": [
      "\u00bfC\u00f3mo funciona?"
     ]
    },
    {
     "cell_type": "markdown",
     "metadata": {},
     "source": [
      "Yo defino mis tareas asincronas:"
     ]
    },
    {
     "cell_type": "code",
     "collapsed": false,
     "input": [
      "from celery import Celery\n",
      "\n",
      "app = Celery('tasks', broker='amqp://guest@localhost//')\n",
      "\n",
      "@app.task\n",
      "def add(x, y):\n",
      "    return x + y\n",
      "\n",
      "@app.task\n",
      "def mul(x, y):\n",
      "    return x * y\n",
      "\n",
      "@app.task\n",
      "def xsum(numbers):\n",
      "    return sum(numbers)"
     ],
     "language": "python",
     "metadata": {},
     "outputs": [],
     "prompt_number": 6
    },
    {
     "cell_type": "markdown",
     "metadata": {},
     "source": [
      "Ejecuto mi worker:"
     ]
    },
    {
     "cell_type": "markdown",
     "metadata": {},
     "source": [
      "```\n",
      "celery -A tasks worker\n",
      "```"
     ]
    },
    {
     "cell_type": "markdown",
     "metadata": {},
     "source": [
      "Y ya puedo lanzar tareas:"
     ]
    },
    {
     "cell_type": "code",
     "collapsed": false,
     "input": [
      "import tasks\n",
      "tasks.add.delay(2,2)"
     ],
     "language": "python",
     "metadata": {},
     "outputs": [
      {
       "metadata": {},
       "output_type": "pyout",
       "prompt_number": 16,
       "text": [
        "<AsyncResult: 88911ac5-eb87-4afe-a1d1-4c7241911452>"
       ]
      }
     ],
     "prompt_number": 16
    },
    {
     "cell_type": "markdown",
     "metadata": {},
     "source": [
      "Incluso recuperar los resultados:"
     ]
    },
    {
     "cell_type": "code",
     "collapsed": false,
     "input": [
      "import tasks\n",
      "response = tasks.add.delay(2,2)\n",
      "print(response.get())"
     ],
     "language": "python",
     "metadata": {},
     "outputs": [
      {
       "output_type": "stream",
       "stream": "stdout",
       "text": [
        "4\n"
       ]
      }
     ],
     "prompt_number": 15
    },
    {
     "cell_type": "code",
     "collapsed": false,
     "input": [],
     "language": "python",
     "metadata": {},
     "outputs": []
    }
   ],
   "metadata": {}
  }
 ]
}